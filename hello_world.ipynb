{
 "cells": [
  {
   "cell_type": "code",
   "execution_count": null,
   "id": "efd47118",
   "metadata": {},
   "outputs": [
    {
     "name": "stdout",
     "output_type": "stream",
     "text": [
      "hello world\n"
     ]
    }
   ],
   "source": [
    "print('hello world')\n",
    "\n",
    "# test"
   ]
  },
  {
   "cell_type": "code",
   "execution_count": null,
   "id": "b192176e",
   "metadata": {},
   "outputs": [],
   "source": [
    "print('화이팅입니다😊')"
   ]
  },
  {
   "cell_type": "code",
   "execution_count": null,
   "id": "31281ac0",
   "metadata": {},
   "outputs": [],
   "source": [
    "print('네 헬로우 월드입니다~')"
   ]
  },
  {
   "cell_type": "code",
   "execution_count": null,
   "id": "3221d097",
   "metadata": {},
   "outputs": [],
   "source": [
    "print('ByeBye World')"
   ]
  },
  {
   "cell_type": "code",
   "execution_count": null,
   "id": "179c839e",
   "metadata": {},
   "outputs": [],
   "source": [
    "print('열심히 해봅시다~!')"
   ]
  }
 ],
 "metadata": {
  "kernelspec": {
   "display_name": "pystudy_env",
   "language": "python",
   "name": "python3"
  },
  "language_info": {
   "codemirror_mode": {
    "name": "ipython",
    "version": 3
   },
   "file_extension": ".py",
   "mimetype": "text/x-python",
   "name": "python",
   "nbconvert_exporter": "python",
   "pygments_lexer": "ipython3",
   "version": "3.12.11"
  }
 },
 "nbformat": 4,
 "nbformat_minor": 5
}
