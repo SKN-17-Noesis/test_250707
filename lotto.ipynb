{
 "cells": [
  {
   "cell_type": "code",
   "execution_count": 1,
   "id": "595d1833",
   "metadata": {},
   "outputs": [
    {
     "name": "stdout",
     "output_type": "stream",
     "text": [
      "[8, 12, 24, 30, 42, 44]\n"
     ]
    }
   ],
   "source": [
    "import random\n",
    "\n",
    "def lotto_number():\n",
    "    number = random.sample(range(1,46), 6) # 1~45 중 6개 추첨\n",
    "    number.sort() # 추첨한 번호 오름차순 정렬\n",
    "    return number\n",
    "\n",
    "number = lotto_number()\n",
    "\n",
    "print(number)"
   ]
  }
 ],
 "metadata": {
  "kernelspec": {
   "display_name": "pystudy_env",
   "language": "python",
   "name": "python3"
  },
  "language_info": {
   "codemirror_mode": {
    "name": "ipython",
    "version": 3
   },
   "file_extension": ".py",
   "mimetype": "text/x-python",
   "name": "python",
   "nbconvert_exporter": "python",
   "pygments_lexer": "ipython3",
   "version": "3.13.5"
  }
 },
 "nbformat": 4,
 "nbformat_minor": 5
}
