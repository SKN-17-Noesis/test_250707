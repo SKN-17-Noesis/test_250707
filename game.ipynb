{
 "cells": [
  {
   "cell_type": "code",
   "execution_count": 27,
   "id": "4364708a",
   "metadata": {},
   "outputs": [],
   "source": [
    "class player:\n",
    "    def __init__(self,deck):\n",
    "        self.deck = deck\n",
    "    \n",
    "    def putDown(self):\n",
    "        if not self.checkEmpty():\n",
    "            return deck.pop()\n",
    "        else:\n",
    "            return\n",
    "    \n",
    "    def size(self):\n",
    "        return len(self.deck)\n",
    "\n",
    "    def getCards(self,extra):\n",
    "        self.deck.extend(extra)\n",
    "\n",
    "    def checkEmpty(self):\n",
    "        if self.size() == 0:\n",
    "            return 1\n",
    "        else:\n",
    "            return 0\n",
    "\n",
    "    def returnDeck(self):\n",
    "        return self.deck\n"
   ]
  },
  {
   "cell_type": "code",
   "execution_count": 28,
   "id": "eeb34ab5",
   "metadata": {},
   "outputs": [],
   "source": [
    "import threading\n",
    "import sys\n",
    "import time\n",
    "\n",
    "def timed_input(prompt: str, timeout: float) -> str | None:\n",
    "    user_input = [None]\n",
    "    def _get_input():\n",
    "        try:\n",
    "            user_input[0] = input(prompt)\n",
    "        except EOFError:\n",
    "            user_input[0] = None\n",
    "\n",
    "    t = threading.Thread(target=_get_input, daemon=True)\n",
    "    t.start()\n",
    "    t.join(timeout)\n",
    "    if t.is_alive():\n",
    "        sys.stdout.write('\\n') \n",
    "        return None\n",
    "    return user_input[0]\n"
   ]
  },
  {
   "cell_type": "code",
   "execution_count": 19,
   "id": "1b66c763",
   "metadata": {},
   "outputs": [
    {
     "name": "stdout",
     "output_type": "stream",
     "text": [
      "[34, 27, 1, 44, 6, 33, 22, 46, 39, 54, 49, 31, 12, 41, 15, 16, 13, 19, 9, 26, 47, 40, 10, 28, 11, 45, 55, 30, 29, 18, 7, 43, 24, 3, 52, 36, 48, 38, 17, 14, 42, 50, 53, 51, 35, 5, 8, 37, 25, 32, 2, 20, 21, 0, 23, 4]\n",
      "{0: {'fruit': 'banana', 'number': 1}, 1: {'fruit': 'banana', 'number': 1}, 2: {'fruit': 'banana', 'number': 1}, 3: {'fruit': 'banana', 'number': 1}, 4: {'fruit': 'banana', 'number': 1}, 5: {'fruit': 'banana', 'number': 2}, 6: {'fruit': 'banana', 'number': 2}, 7: {'fruit': 'banana', 'number': 2}, 8: {'fruit': 'banana', 'number': 3}, 9: {'fruit': 'banana', 'number': 3}, 10: {'fruit': 'banana', 'number': 3}, 11: {'fruit': 'banana', 'number': 4}, 12: {'fruit': 'banana', 'number': 4}, 13: {'fruit': 'banana', 'number': 5}, 14: {'fruit': 'strawberry', 'number': 1}, 15: {'fruit': 'strawberry', 'number': 1}, 16: {'fruit': 'strawberry', 'number': 1}, 17: {'fruit': 'strawberry', 'number': 1}, 18: {'fruit': 'strawberry', 'number': 1}, 19: {'fruit': 'strawberry', 'number': 2}, 20: {'fruit': 'strawberry', 'number': 2}, 21: {'fruit': 'strawberry', 'number': 2}, 22: {'fruit': 'strawberry', 'number': 3}, 23: {'fruit': 'strawberry', 'number': 3}, 24: {'fruit': 'strawberry', 'number': 3}, 25: {'fruit': 'strawberry', 'number': 4}, 26: {'fruit': 'strawberry', 'number': 4}, 27: {'fruit': 'strawberry', 'number': 5}, 28: {'fruit': 'lime', 'number': 1}, 29: {'fruit': 'lime', 'number': 1}, 30: {'fruit': 'lime', 'number': 1}, 31: {'fruit': 'lime', 'number': 1}, 32: {'fruit': 'lime', 'number': 1}, 33: {'fruit': 'lime', 'number': 2}, 34: {'fruit': 'lime', 'number': 2}, 35: {'fruit': 'lime', 'number': 2}, 36: {'fruit': 'lime', 'number': 3}, 37: {'fruit': 'lime', 'number': 3}, 38: {'fruit': 'lime', 'number': 3}, 39: {'fruit': 'lime', 'number': 4}, 40: {'fruit': 'lime', 'number': 4}, 41: {'fruit': 'lime', 'number': 5}, 42: {'fruit': 'plum', 'number': 1}, 43: {'fruit': 'plum', 'number': 1}, 44: {'fruit': 'plum', 'number': 1}, 45: {'fruit': 'plum', 'number': 1}, 46: {'fruit': 'plum', 'number': 1}, 47: {'fruit': 'plum', 'number': 2}, 48: {'fruit': 'plum', 'number': 2}, 49: {'fruit': 'plum', 'number': 2}, 50: {'fruit': 'plum', 'number': 3}, 51: {'fruit': 'plum', 'number': 3}, 52: {'fruit': 'plum', 'number': 3}, 53: {'fruit': 'plum', 'number': 4}, 54: {'fruit': 'plum', 'number': 4}, 55: {'fruit': 'plum', 'number': 5}}\n"
     ]
    }
   ],
   "source": [
    "import random\n",
    "fruits = ['banana', 'strawberry', 'lime', 'plum']\n",
    "counts = {1: 5, 2: 3, 3: 3, 4: 2, 5: 1}\n",
    "cards = {}\n",
    "idx = 0\n",
    "for fruit in fruits:\n",
    "    for number, qty in counts.items():\n",
    "        for _ in range(qty):\n",
    "            cards[idx] = {'fruit': fruit, 'number': number}\n",
    "            idx += 1 \n",
    "\n",
    "\n",
    "deck = list(cards.keys())\n",
    "random.shuffle(deck)\n",
    "print(deck)\n",
    "print(cards)\n"
   ]
  },
  {
   "cell_type": "code",
   "execution_count": 25,
   "id": "54d12c63",
   "metadata": {},
   "outputs": [
    {
     "name": "stdout",
     "output_type": "stream",
     "text": [
      "[34, 27, 1, 44, 6, 33, 22, 46, 39, 54, 49, 31, 12, 41]\n",
      "[15, 16, 13, 19, 9, 26, 47, 40, 10, 28, 11, 45, 55, 30]\n",
      "[29, 18, 7, 43, 24, 3, 52, 36, 48, 38, 17, 14, 42, 50]\n",
      "[53, 51, 35, 5, 8, 37, 25, 32, 2, 20, 21, 0, 23, 4]\n",
      "14\n",
      "14\n",
      "14\n",
      "14\n"
     ]
    }
   ],
   "source": [
    "p1 = player(deck[:14])\n",
    "p2 = player(deck[14:28])\n",
    "p3 = player(deck[28:42])\n",
    "user = player(deck[42:56])\n",
    "\n",
    "print(p1.returnDeck())\n",
    "print(p2.returnDeck())\n",
    "print(p3.returnDeck())\n",
    "print(user.returnDeck())\n",
    "\n",
    "print(p1.size())\n",
    "print(p2.size())\n",
    "print(p3.size())\n",
    "print(user.size())"
   ]
  },
  {
   "cell_type": "code",
   "execution_count": null,
   "id": "a098f498",
   "metadata": {},
   "outputs": [],
   "source": [
    "p1_trash =[]\n",
    "p2_trash =[]\n",
    "p3_trash =[]\n",
    "user_trash = []\n",
    "\n",
    "played_fruits = {'banana' :0, 'strawberry':0, 'lime':0, 'plum':0}"
   ]
  },
  {
   "cell_type": "code",
   "execution_count": 30,
   "id": "dd8f68a0",
   "metadata": {},
   "outputs": [],
   "source": [
    "def is_sum_five(cards):\n",
    "    for card in cards:\n",
    "        for fruit, num in card.items():\n",
    "            played_fruits[fruit] += num\n",
    "    \n",
    "    for key in played_fruits.values():\n",
    "        if key == 5:\n",
    "            return True\n",
    "        else:\n",
    "            return False"
   ]
  },
  {
   "cell_type": "code",
   "execution_count": null,
   "id": "f6e5f40f",
   "metadata": {},
   "outputs": [],
   "source": [
    "import time\n",
    "start = 0\n",
    "end = 0\n",
    "played = {p1 : None, p2 : None, p3 : None, user : None}\n",
    "while p1.size() or p2.size() or p3.size():\n",
    "    if p1.size() !=0:\n",
    "        p1_card = p1.putDown()\n",
    "        p1_trash.append(p1_card)\n",
    "        played[p1] = p1_card\n",
    "        \n",
    "    print(f'플레이어 1 : {p1_card}')\n",
    "    start = time.time()\n",
    "    ans = timed_input(\"계속하려면 Enter를 누르세요 (1초 제한): \", 1.0)\n",
    "    end = time.time()\n",
    "    print(f\"({end - start:.3f}s 경과, 입력: {ans!r})\\n\")\n",
    "\n",
    "    if p2.size() !=0:\n",
    "        p2_card = p2.putDown()\n",
    "        p2_trash.append(p2_card)\n",
    "        played[p2] = p2_card\n",
    "\n",
    "    print(f'플레이어 2 : {p2_card}')\n",
    "    start = time.time()\n",
    "    ans = timed_input(\"계속하려면 Enter를 누르세요 (1초 제한): \", 1.0)\n",
    "    end = time.time()\n",
    "    print(f\"({end - start:.3f}s 경과, 입력: {ans!r})\\n\")\n",
    "\n",
    "    if p3.size() !=0:\n",
    "        p3_card = p3.putDown()\n",
    "        p3_trash.append(p3_card)\n",
    "        played[p3] = p3_card\n",
    "\n",
    "    print(f'플레이어 3 : {p3_card}')\n",
    "    start = time.time()\n",
    "    ans = timed_input(\"계속하려면 Enter를 누르세요 (1초 제한): \", 1.0)\n",
    "    end = time.time()\n",
    "    print(f\"({end - start:.3f}s 경과, 입력: {ans!r})\\n\")\n",
    "\n",
    "    if user.size() !=0:\n",
    "        user_card = user.putDown()\n",
    "        user_trash.append(user_card)\n",
    "        played[user] = user_card\n",
    "\n",
    "    print(f'사용자 : {user_card}')\n",
    "    start = time.time()\n",
    "    ans = timed_input(\"계속하려면 Enter를 누르세요 (1초 제한): \", 1.0)\n",
    "    end = time.time()\n",
    "    print(f\"({end - start:.3f}s 경과, 입력: {ans!r})\\n\")\n",
    "\n",
    "    \n",
    "    \n",
    "\n"
   ]
  },
  {
   "cell_type": "code",
   "execution_count": null,
   "id": "8fdff536",
   "metadata": {},
   "outputs": [],
   "source": []
  }
 ],
 "metadata": {
  "kernelspec": {
   "display_name": "pystudy_env",
   "language": "python",
   "name": "python3"
  },
  "language_info": {
   "codemirror_mode": {
    "name": "ipython",
    "version": 3
   },
   "file_extension": ".py",
   "mimetype": "text/x-python",
   "name": "python",
   "nbconvert_exporter": "python",
   "pygments_lexer": "ipython3",
   "version": "3.12.11"
  }
 },
 "nbformat": 4,
 "nbformat_minor": 5
}
